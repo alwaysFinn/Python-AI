{
  "nbformat": 4,
  "nbformat_minor": 0,
  "metadata": {
    "colab": {
      "provenance": [],
      "authorship_tag": "ABX9TyPY2UHQxfF2lP9U2OkKf99y",
      "include_colab_link": true
    },
    "kernelspec": {
      "name": "python3",
      "display_name": "Python 3"
    },
    "language_info": {
      "name": "python"
    }
  },
  "cells": [
    {
      "cell_type": "markdown",
      "metadata": {
        "id": "view-in-github",
        "colab_type": "text"
      },
      "source": [
        "<a href=\"https://colab.research.google.com/github/alwaysFinn/Python-AI/blob/main/ML_Review.ipynb\" target=\"_parent\"><img src=\"https://colab.research.google.com/assets/colab-badge.svg\" alt=\"Open In Colab\"/></a>"
      ]
    },
    {
      "cell_type": "code",
      "execution_count": null,
      "metadata": {
        "id": "fRP6JK4Gv5PS"
      },
      "outputs": [],
      "source": []
    },
    {
      "cell_type": "markdown",
      "source": [
        "# ML 프로젝트 수행순서\n",
        "- 문제정의\n",
        "- 데이터 수집 및 정제\n",
        "- 탐색적 데이터 분석\n",
        "- 피처 (독립변수) 엔지니어링\n",
        "- 예측 모델 개발 및 평가"
      ],
      "metadata": {
        "id": "yWp-EOrWwHx-"
      }
    },
    {
      "cell_type": "markdown",
      "source": [
        "# ML Framework : Scikit-Learn\n",
        "- 파이썬 오픈소스 라이브러리 중 머신러닝을 구현함에 있어 특화된 라이브러리\n",
        "- sklearn은 거의 대부분의 머신러닝 알고리즘이 구현되어 있음\n",
        "- 굉장히 구조적으로 잘 만들어져 있어 사용에 용이"
      ],
      "metadata": {
        "id": "Cg1W88VUxuMH"
      }
    },
    {
      "cell_type": "markdown",
      "source": [
        "# Classification (분류)\n",
        "- 주어진 데이터 (X)를 분류하고자 하는 값(y)에 할당하는 방법\n",
        "- 비슷한 특징을 가지는 데이터가 같은 분류로 나뉘어지는 것은 서로 상대적으로 가까운 feature들이 같은 target value를 부여받는 것\n",
        "- ex) 고양이와 강아지의 사진이 섞여있는 2000장의 이미지가 있을 때 고양이 사진을 머신러닝 모델이 판단, 'Cat'이라고 Label을 부여\n",
        "- 보통 label은 0 or 1이라고 표기함\n",
        "- e.g. cat(0), Dog(1)\n",
        "- 머신러닝 분류 모델을 거치면 binary classfication이라고 함\n",
        "- 하나는 선형식으로 위/아래로 공간이 나뉘기 때문에, 위는1, 아래는0으로 inference를 하게 되면 두가지 케이스로 데이터를 분류할 수 있음\n",
        "- 머신러닝 분류 모델 종류 : Logistic Regression, Linear Classifier, KNN, Neural Network, ..."
      ],
      "metadata": {
        "id": "VgYR__QyydA5"
      }
    },
    {
      "cell_type": "markdown",
      "source": [
        "# Classification - Model : Logistic Regression\n",
        "- 주어진 데이터(x)를 통해서 사건의 발생 확률(y)을 예측하는 통계 모델 -> 타이타닉 데이터(누가 죽고, 누가 사는지와 같이)\n",
        "- 대표적인 이진 분류 모델\n",
        "- 전체 데이터의 경향성을 파악하려는 선형식을 구하는 방법을 말함\n",
        "- y = b + b*x\n",
        "- 특정 값(target value)을 예측하는 것을 목표로 함\n",
        "- 특정 값을 찾기 위해서는 주어진 데이터(Training data)의 패턴을 찾아야 함\n",
        "- 그 패턴을 선형식으로 파악하는 것이 Linear Regression이라고 함\n",
        "- Logistic Regression은 Linear Regression을 분류모델로써 확장한 모델임\n"
      ],
      "metadata": {
        "id": "MrLW9T1e2bzj"
      }
    },
    {
      "cell_type": "code",
      "source": [],
      "metadata": {
        "id": "gSNApoV-3hcA"
      },
      "execution_count": null,
      "outputs": []
    },
    {
      "cell_type": "code",
      "source": [],
      "metadata": {
        "id": "M1zHjXxf3r7P"
      },
      "execution_count": null,
      "outputs": []
    }
  ]
}